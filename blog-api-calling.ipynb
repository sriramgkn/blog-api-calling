{
  "nbformat": 4,
  "nbformat_minor": 0,
  "metadata": {
    "colab": {
      "provenance": []
    },
    "kernelspec": {
      "name": "python3",
      "display_name": "Python 3"
    },
    "language_info": {
      "name": "python"
    }
  },
  "cells": [
    {
      "cell_type": "markdown",
      "source": [
        "## Understanding API calling\n",
        "\n",
        "Cite like this [[0](#ref-0)].\n",
        "Jupyter instructions: install [Django](https://docs.djangoproject.com/en/5.0/topics/install/), [djangorestframework](https://www.django-rest-framework.org/#installation), [graphene](https://pypi.org/project/graphene/), and [flask](https://flask.palletsprojects.com/en/3.0.x/installation/) in your Python environment.\n",
        "\n",
        "In this post, we will see how APIs work. We will learn about two distinct architectural styles: REST and GraphQL. We will also see code examples of i) how REST APIs are implemented in Python using the Django REST Framework ([DRF]((https://www.django-rest-framework.org/))), and ii) how GraphQL APIs are implemented in Python with the [Graphene](https://graphene-python.org/) library.\n",
        "\n",
        "## What is an API?\n",
        "\n",
        "An API (Application Programming Interface) is a set of rules, protocols, and tools that allow different software applications to communicate and exchange data with each other [[1](#ref-1)] [[3](#ref-3)]. APIs define the types of requests that can be made between applications, how to make those requests, the data formats that should be used, and the conventions to follow [[1](#ref-1)].\n",
        "\n",
        "Some key points about APIs:\n",
        "\n",
        "- APIs act as an interface or middleman between different applications [[3](#ref-3)]\n",
        "- They allow applications to access specific functionality and data from other applications [[3](#ref-3)]\n",
        "- APIs simplify application development by enabling integration of existing services and data [[5](#ref-5)]\n",
        "- They provide a secure way for application owners to share data and functionality with others [[5](#ref-5)]\n",
        "\n",
        "## Types of APIs\n",
        "\n",
        "APIs can be categorized in a few different ways [[1](#ref-1)] [[3](#ref-3)]:\n",
        "\n",
        "1. By intended audience:\n",
        "- Open/Public APIs: Publicly available with minimal restrictions\n",
        "- Partner APIs: Shared with specific business partners\n",
        "- Internal/Private APIs: Used within an organization\n",
        "\n",
        "2. By architecture style/protocol:\n",
        "- REST APIs: Use HTTP requests to GET, PUT, POST and DELETE data\n",
        "- SOAP APIs: Use XML for messaging and transfer over SMTP, HTTP, etc.\n",
        "- RPC APIs: The oldest and simplest; client executes code on the server\n",
        "- GraphQL, gRPC, WebSocket APIs: Newer styles gaining popularity\n",
        "\n",
        "3. By purpose:\n",
        "- Database APIs: Manage and access databases\n",
        "- Operating System APIs: For OS-level functionality and services\n",
        "- Web APIs: Allow interaction with web-based apps\n",
        "- Program APIs: Extend functionality of programming languages\n",
        "\n",
        "## How APIs Work\n",
        "\n",
        "The basic flow of an API call looks like this [[1](#ref-1)] [[5](#ref-5)]:\n",
        "\n",
        "1. An application makes an API request to retrieve data or perform an action\n",
        "2. The request is processed through the API's endpoint (URI), headers, and body\n",
        "3. The API makes a call to the external program or web server\n",
        "4. The server sends a response back to the API with the requested data\n",
        "5. The API transfers the data to the initial requesting application\n",
        "\n",
        "This all happens in the background without any visibility on the user interface.\n",
        "\n",
        "## API Authentication and Security\n",
        "\n",
        "Since APIs can expose sensitive data and functionality, authentication is critical to ensure only authorized users can access them [[2](#ref-2)] [[4](#ref-4)]. Common API authentication methods include:\n",
        "\n",
        "- HTTP Basic Authentication: Sends credentials as user/password pairs\n",
        "- API Keys: Unique keys issued to each user to track and control usage\n",
        "- OAuth: Token-based authentication for secure delegated access\n",
        "- JWT: JSON Web Tokens for stateless authentication\n",
        "\n",
        "It's important to follow best practices like using HTTPS, access tokens, rate limiting, and input validation to keep APIs secure [[2](#ref-2)] [[4](#ref-4)].\n",
        "\n",
        "## Benefits of APIs\n",
        "\n",
        "APIs provide many benefits to developers and organizations [[1](#ref-1)] [[3](#ref-3)] [[5](#ref-5)]:\n",
        "\n",
        "- Simplify application development through code reuse and integration\n",
        "- Enable automation of workflows and processes\n",
        "- Improve collaboration between internal teams and external partners\n",
        "- Allow monetization of data and functionality\n",
        "- Provide flexibility and agility in developing new applications\n",
        "- Reduce information silos and disconnected systems\n",
        "\n",
        "APIs are an essential part of modern software development, enabling applications to communicate, share data, and extend functionality. Understanding the different types, architectures, authentication methods, and best practices around APIs is key to building robust and secure applications in today's connected world.\n",
        "\n",
        "REST APIs are the most common architectural style for designing APIs. In Python, REST APIs are implemented using the [DRF](https://www.django-rest-framework.org/) framework mentioned earlier. Before we look at code examples, let us try to understand the REST architectural style in detail:\n",
        "\n",
        "## Key Characteristics of REST\n",
        "\n",
        "1. Uniform Interface\n",
        "REST defines a uniform interface between clients and servers. This simplifies and decouples the architecture, allowing both parts to evolve independently  [[6](#ref-6)]  [[8](#ref-8)]. The uniform interface includes:\n",
        "\n",
        "- Resource identification in requests (e.g. URIs in web-based REST)\n",
        "- Resource manipulation through representations (e.g. JSON, XML)\n",
        "- Self-descriptive messages with metadata about the resource\n",
        "- Hypermedia as the engine of application state (HATEOAS) - having links to related resources\n",
        "\n",
        "2. Client-Server Architecture  \n",
        "REST uses a client-server architecture where clients and servers have clear separation of concerns  [[7](#ref-7)]  [[9](#ref-9)]. Servers expose APIs and resources that clients consume. They evolve independently, with servers not knowing about client implementations and vice versa.\n",
        "\n",
        "3. Stateless Interactions\n",
        "Server-side sessions are not required in REST  [[7](#ref-7)]  [[9](#ref-9)]. Each client request contains all the information needed by the server to process it, like authentication tokens. This improves scalability as servers don't have to store client state between requests.\n",
        "\n",
        "4. Cacheability\n",
        "Responses from the server can be labeled as cacheable or non-cacheable  [[7](#ref-7)]  [[9](#ref-9)]. Caching can eliminate some client-server interactions, improving scalability and performance. Caches can live on the server or client-side.\n",
        "\n",
        "5. Layered System\n",
        "A REST API can be composed of multiple architectural layers  [[8](#ref-8)]  [[9](#ref-9)]. Layers can encapsulate legacy services, enforce security policies, load balance requests, etc. Layers should be invisible to the client.\n",
        "\n",
        "6. Code on Demand (optional)\n",
        "REST allows servers to extend client functionality by transferring executable code, like JavaScript  [[8](#ref-8)]. This is an optional constraint and not commonly used.\n",
        "\n",
        "## Designing RESTful APIs\n",
        "\n",
        "When designing APIs to conform to the REST architectural style:\n",
        "\n",
        "- Use HTTP methods explicitly (GET, POST, PUT, DELETE)  [[6](#ref-6)]  [[10](#ref-10)]\n",
        "- Be stateless and send complete, independent requests  [[6](#ref-6)]  [[10](#ref-10)]\n",
        "- Structure the API around resources, which are accessed via URIs  [[6](#ref-6)]  [[10](#ref-10)]\n",
        "- Use standard, well-defined data formats like JSON or XML  [[10](#ref-10)]\n",
        "- Leverage HTTP status codes to indicate errors  [[10](#ref-10)]\n",
        "- Implement authentication via standard means like OAuth or JWT  [[10](#ref-10)]\n",
        "\n",
        "Some additional design tips:\n",
        "\n",
        "- Keep base URLs simple and intuitive\n",
        "- Use nouns for resources, not verbs\n",
        "- Model resource hierarchy with URI paths\n",
        "- Provide filtering, sorting, field selection and paging for collections\n",
        "- Version your API if you make breaking changes\n",
        "- Provide good documentation and examples\n",
        "\n",
        "Essentially, REST provides a set of architectural constraints that, when applied to web services, make them scalable, loosely coupled, simple, and easy to modify and extend. The key is to apply the constraints uniformly and leverage the infrastructure of the web, like HTTP, while clearly separating client and server responsibilities.\n",
        "\n",
        "Since 2015, a newer style known as GraphQL has gained popularity for its speed and performance benefits. In Python, GraphQL is packaged into the [Graphene](https://graphene-python.org/) library. Before we look at code examples, let us try to understand the philosophy of GraphQL in detail:\n",
        "\n",
        "## What is GraphQL?\n",
        "\n",
        "GraphQL is both a query language and a runtime for fulfilling those queries (API calls) developed by Facebook [[11](#ref-11)] [[12](#ref-12)]. It provides a more efficient, powerful and flexible alternative to REST.\n",
        "\n",
        "The key characteristics of GraphQL are:\n",
        "\n",
        "- It allows the client to specify exactly what data it needs [[11](#ref-11)]\n",
        "- It makes it easier to aggregate data from multiple sources [[11](#ref-11)]  \n",
        "- It uses a type system to describe data [[12](#ref-12)]\n",
        "\n",
        "With GraphQL, the client sends a query to the API and gets exactly what it needs, nothing more and nothing less. This solves some common problems with REST like over-fetching and under-fetching of data [[11](#ref-11)].\n",
        "\n",
        "## GraphQL vs REST\n",
        "\n",
        "While GraphQL can be used as an alternative to REST, it's not necessarily a replacement for REST. Here are the key differences:\n",
        "\n",
        "1. Data Fetching\n",
        "- In REST, you typically gather the data by accessing multiple endpoints [[11](#ref-11)] [[14](#ref-14)]. In GraphQL, you'd simply send a single query to the GraphQL server that includes the concrete data requirements. The server then responds with a JSON object where these requirements are fulfilled [[11](#ref-11)].\n",
        "- GraphQL allows you to retrieve many resources in a single request, while REST requires loading from multiple URLs [[15](#ref-15)].\n",
        "\n",
        "2. Over/Under Fetching\n",
        "- One of the most common problems with REST is that of over- and under-fetching [[11](#ref-11)]. Over-fetching means that a client downloads more information than is actually required in the app. Under-fetching means a specific endpoint doesn't provide enough of the required information [[11](#ref-11)].\n",
        "- GraphQL solves this by allowing the client to specify exactly what data it needs [[11](#ref-11)] [[14](#ref-14)]. No more over- or under-fetching.\n",
        "\n",
        "3. Versioning\n",
        "- With a REST API, you would typically version the API or have multiple endpoints to account for different data needs [[14](#ref-14)].\n",
        "- With GraphQL, there's no need for versioning, as you can add new fields and types to your GraphQL API without impacting existing queries [[14](#ref-14)].\n",
        "\n",
        "4. Schema and Type System\n",
        "- GraphQL uses a strong type system to define the capabilities of an API [[12](#ref-12)]. All the types exposed in an API are written down in a schema using the GraphQL Schema Definition Language [[12](#ref-12)].\n",
        "- REST has no opinion about what format the data should be in [[14](#ref-14)].\n",
        "\n",
        "5. Architecture\n",
        "- GraphQL follows a client-driven architecture [[12](#ref-12)], where the client decides what data it needs and in what format.\n",
        "- REST follows a server-driven architecture [[12](#ref-12)], where the server determines the data returned.\n",
        "\n",
        "6. Community and Ecosystem\n",
        "- REST has a larger community and ecosystem as it has been around for much longer [[12](#ref-12)].\n",
        "- GraphQL is a growing community and is being rapidly adopted, especially by companies with complex data fetching requirements [[12](#ref-12)] [[13](#ref-13)].\n",
        "\n",
        "## When to Use GraphQL vs REST\n",
        "\n",
        "GraphQL is a good choice when:\n",
        "- Your data is highly interconnected and you have complex data requirements [[13](#ref-13)]\n",
        "- You want clients to be able to dictate their data requirements [[13](#ref-13)]\n",
        "- You need high development velocity and flexibility [[13](#ref-13)]\n",
        "\n",
        "REST is a good choice when:\n",
        "- You have simple data requirements [[13](#ref-13)]\n",
        "- You need extensive caching support [[13](#ref-13)]\n",
        "- You prioritize simplicity and convention over flexibility [[13](#ref-13)]\n",
        "\n",
        "In summary, GraphQL provides a different and in many cases more efficient approach to developing APIs than REST. It solves many pain points of REST like over/under-fetching and the need for multiple endpoints. However, REST still has its place and is not going away anytime soon. The choice between GraphQL and REST depends on the specific needs of your application.\n",
        "\n",
        "Let us now look at code examples (with explanations) of how to implement REST APIs using the Django REST Framework (DRF):\n",
        "\n",
        "## DRF: Setting up a Model\n",
        "\n",
        "First, let's define a simple model in Django that we want to expose through our API [[16](#ref-16)] [[17](#ref-17)]. In the `models.py` file of your Django app:"
      ],
      "metadata": {
        "id": "LcZ68UjXQ6om"
      }
    },
    {
      "cell_type": "code",
      "source": [
        "from django.db import models\n",
        "\n",
        "class Student(models.Model):\n",
        "    first_name = models.CharField(max_length=50)\n",
        "    last_name = models.CharField(max_length=50)\n",
        "    student_id = models.IntegerField()\n",
        "\n",
        "    def __str__(self):\n",
        "        return self.first_name"
      ],
      "metadata": {
        "id": "HGn4q2Xy1eSl"
      },
      "execution_count": null,
      "outputs": []
    },
    {
      "cell_type": "markdown",
      "source": [
        "This defines a `Student` model with fields for first name, last name, and student ID.\n",
        "\n",
        "## DRF: Creating a Serializer\n",
        "\n",
        "Next, we need to create a serializer for our model [[16](#ref-16)] [[17](#ref-17)]. Serializers allow complex data such as querysets and model instances to be converted to native Python datatypes that can then be easily rendered into JSON or other content types [[16](#ref-16)]. In a new file `serializers.py`:"
      ],
      "metadata": {
        "id": "sVWRjjbeSmdY"
      }
    },
    {
      "cell_type": "code",
      "source": [
        "from rest_framework import serializers\n",
        "from .models import Student\n",
        "\n",
        "class StudentSerializer(serializers.ModelSerializer):\n",
        "    class Meta:\n",
        "        model = Student\n",
        "        fields = ['id', 'first_name', 'last_name', 'student_id']"
      ],
      "metadata": {
        "id": "UhYcLI1SSt6f"
      },
      "execution_count": null,
      "outputs": []
    },
    {
      "cell_type": "markdown",
      "source": [
        "This serializer class defines the fields from the `Student` model that should be included in the serialized representation.\n",
        "\n",
        "## DRF: Creating Views\n",
        "\n",
        "Now we can write the views that will handle the API requests [[16](#ref-16)] [[17](#ref-17)]. In your `views.py`:"
      ],
      "metadata": {
        "id": "1RsxVGR2SzKK"
      }
    },
    {
      "cell_type": "code",
      "source": [
        "from rest_framework import viewsets\n",
        "from .serializers import StudentSerializer\n",
        "from .models import Student\n",
        "\n",
        "class StudentViewSet(viewsets.ModelViewSet):\n",
        "    queryset = Student.objects.all()\n",
        "    serializer_class = StudentSerializer"
      ],
      "metadata": {
        "id": "7EXtbpVgS3K6"
      },
      "execution_count": null,
      "outputs": []
    },
    {
      "cell_type": "markdown",
      "source": [
        "This view uses DRF's `ModelViewSet` which provides default `create()`, `retrieve()`, `update()`, `partial_update()`, `destroy()` and `list()` actions [[16](#ref-16)]. We specify the `queryset` that should be used (all `Student` objects) and the `serializer_class` to use for serialization.\n",
        "\n",
        "## DRF: Configuring URLs\n",
        "\n",
        "Finally, we need to configure the URLs to map to our viewset [[16](#ref-16)] [[17](#ref-17)]. In your `urls.py`:"
      ],
      "metadata": {
        "id": "zVzsK16zS7j5"
      }
    },
    {
      "cell_type": "code",
      "source": [
        "from django.urls import include, path\n",
        "from rest_framework import routers\n",
        "from .views import StudentViewSet\n",
        "\n",
        "router = routers.DefaultRouter()\n",
        "router.register(r'students', StudentViewSet)\n",
        "\n",
        "urlpatterns = [\n",
        "    path('', include(router.urls)),\n",
        "]"
      ],
      "metadata": {
        "id": "ztDaZ4yCTAHU"
      },
      "execution_count": null,
      "outputs": []
    },
    {
      "cell_type": "markdown",
      "source": [
        "This sets up the `StudentViewSet` to be accessible at the `/students/` endpoint.\n",
        "\n",
        "## DRF: Testing the API\n",
        "\n",
        "With this setup, we now have a fully functional API [[17](#ref-17)]. We can test it by starting the Django development server and navigating to `http://localhost:8000/students/` in a web browser. We should see a browsable API interface provided by DRF where we can view existing `Student` objects and create new ones.\n",
        "\n",
        "We can also interact with the API programmatically. For example, to get a list of all students, we can send a GET request to `http://localhost:8000/students/`. To create a new student, we can send a POST request to the same URL with the student data in JSON format in the request body.\n",
        "\n",
        "This is just a basic example, but it demonstrates the key components involved in creating a REST API with Django REST Framework: models, serializers, views, and URL configuration. DRF provides many more features and customization options for more advanced use cases.\n",
        "\n",
        "Let us now look at code examples (with explanations) of how GraphQL APIs are implemented in Python using the Graphene library:\n",
        "\n",
        "## Graphene: Defining a Schema\n",
        "\n",
        "The first step is to define a schema for your GraphQL API using Graphene  [[18](#ref-18)]  [[19](#ref-19)]  [[20](#ref-20)]. The schema describes the data types, fields, and relationships in your API. Here's an example:"
      ],
      "metadata": {
        "id": "JcQ9-b-kTBqC"
      }
    },
    {
      "cell_type": "code",
      "source": [
        "import graphene\n",
        "\n",
        "class Book(graphene.ObjectType):\n",
        "    title = graphene.String()\n",
        "    author = graphene.String()\n",
        "    pages = graphene.Int()\n",
        "\n",
        "class Query(graphene.ObjectType):\n",
        "    books = graphene.List(Book)\n",
        "\n",
        "    def resolve_books(self, info):\n",
        "        return [\n",
        "            Book(title=\"To Kill a Mockingbird\", author=\"Harper Lee\", pages=281),\n",
        "            Book(title=\"1984\", author=\"George Orwell\", pages=328),\n",
        "        ]\n",
        "\n",
        "schema = graphene.Schema(query=Query)"
      ],
      "metadata": {
        "id": "tA9xrTpXTK2z"
      },
      "execution_count": null,
      "outputs": []
    },
    {
      "cell_type": "markdown",
      "source": [
        "In this example:\n",
        "\n",
        "- We define a `Book` type with `title`, `author`, and `pages` fields using Graphene's scalar types (`String`, `Int`)  [[18](#ref-1)]  [[20](#ref-3)].\n",
        "- We define a `Query` type that has a `books` field which returns a list of `Book` objects  [[18](#ref-18)]  [[20](#ref-20)].\n",
        "- The `resolve_books` method is a resolver that returns the actual data for the `books` field  [[18](#ref-18)]  [[20](#ref-20)].\n",
        "- Finally, we create a `Schema` instance with our `Query` type  [[18](#ref-18)]  [[20](#ref-20)].\n",
        "\n",
        "## Graphene: Executing Queries\n",
        "\n",
        "Once you have a schema, you can execute queries against it  [[18](#ref-18)]  [[19](#ref-19)]  [[20](#ref-20)]. Here's an example:"
      ],
      "metadata": {
        "id": "qQZyMN32TOBw"
      }
    },
    {
      "cell_type": "code",
      "source": [
        "query = '''\n",
        "    query {\n",
        "        books {\n",
        "            title\n",
        "            author\n",
        "        }\n",
        "    }"
      ],
      "metadata": {
        "id": "Wu7ezH9TTcHh"
      },
      "execution_count": null,
      "outputs": []
    },
    {
      "cell_type": "markdown",
      "source": [
        "This will execute the query and print the result:\n",
        "\n",
        "```json\n",
        "{\n",
        "    \"books\": [\n",
        "        {\n",
        "            \"title\": \"To Kill a Mockingbird\",\n",
        "            \"author\": \"Harper Lee\"\n",
        "        },\n",
        "        {\n",
        "            \"title\": \"1984\",\n",
        "            \"author\": \"George Orwell\"\n",
        "        }\n",
        "    ]\n",
        "}\n",
        "```\n",
        "\n",
        "Note that the query only requests the `title` and `author` fields, so `pages` is not returned.\n",
        "\n",
        "## Graphene: Mutations\n",
        "\n",
        "In addition to querying data, you can also modify data through mutations  [[19](#ref-19)]  [[20](#ref-20)]. Here's an example of defining a mutation to create a new book:"
      ],
      "metadata": {
        "id": "hofJxjT3Tea5"
      }
    },
    {
      "cell_type": "code",
      "source": [
        "class CreateBook(graphene.Mutation):\n",
        "    class Arguments:\n",
        "        title = graphene.String()\n",
        "        author = graphene.String()\n",
        "        pages = graphene.Int()\n",
        "\n",
        "    book = graphene.Field(Book)\n",
        "\n",
        "    def mutate(self, info, title, author, pages):\n",
        "        book = Book(title=title, author=author, pages=pages)\n",
        "        return CreateBook(book=book)\n",
        "\n",
        "class Mutation(graphene.ObjectType):\n",
        "    create_book = CreateBook.Field()\n",
        "\n",
        "schema = graphene.Schema(query=Query, mutation=Mutation)"
      ],
      "metadata": {
        "id": "QojbYv_tT8eG"
      },
      "execution_count": null,
      "outputs": []
    },
    {
      "cell_type": "markdown",
      "source": [
        "And here's how you would execute this mutation:"
      ],
      "metadata": {
        "id": "jaAbdNsWT96h"
      }
    },
    {
      "cell_type": "code",
      "source": [
        "mutation = '''\n",
        "    mutation {\n",
        "        createBook(title: \"The Great Gatsby\", author: \"F. Scott Fitzgerald\", pages: 180) {\n",
        "            book {\n",
        "                title\n",
        "                author\n",
        "                pages\n",
        "            }\n",
        "        }\n",
        "    }"
      ],
      "metadata": {
        "id": "uqDyati_UCEb"
      },
      "execution_count": null,
      "outputs": []
    },
    {
      "cell_type": "markdown",
      "source": [
        "This will create a new book and return it in the result:\n",
        "\n",
        "```json\n",
        "{\n",
        "    \"createBook\": {\n",
        "        \"book\": {\n",
        "            \"title\": \"The Great Gatsby\",\n",
        "            \"author\": \"F. Scott Fitzgerald\",\n",
        "            \"pages\": 180\n",
        "        }\n",
        "    }\n",
        "}\n",
        "```\n",
        "\n",
        "## Graphene: Integrating with Flask\n",
        "\n",
        "To expose your GraphQL API over HTTP, you can integrate it with a web framework like Flask  [[18](#ref-18)]  [[21](#ref-21)]. Here's an example:"
      ],
      "metadata": {
        "id": "bXL3C2h5UGwr"
      }
    },
    {
      "cell_type": "code",
      "source": [
        "from flask import Flask\n",
        "from graphene_flask import GraphQLView\n",
        "\n",
        "app = Flask(__name__)\n",
        "app.add_url_rule('/graphql', view_func=GraphQLView.as_view('graphql', schema=schema, graphiql=True))\n",
        "\n",
        "if __name__ == '__main__':\n",
        "    app.run()"
      ],
      "metadata": {
        "id": "F7X2mCSVUZV_"
      },
      "execution_count": null,
      "outputs": []
    },
    {
      "cell_type": "markdown",
      "source": [
        "This will create a `/graphql` endpoint that accepts GraphQL queries and mutations, and also provides the GraphiQL interactive IDE at the same URL  [[18](#ref-18)]  [[21](#ref-21)].\n",
        "\n",
        "These are just basic examples, but they demonstrate the core concepts of defining schemas, executing queries and mutations, and integrating with a web framework using Graphene and Python. Graphene provides many more features and integrations for building sophisticated GraphQL APIs.\n",
        "\n",
        "That's it from me! We hope this post serves as a guide to new learners navigating API design.\n"
      ],
      "metadata": {
        "id": "IK9OO3O3UcvP"
      }
    },
    {
      "cell_type": "markdown",
      "source": [
        "---\n",
        "### References  \n",
        "[0] <a id=\"ref-0\"></a> [https://www.example.com](https://www.example.com)  \n",
        "[1] <a id=\"ref-1\"></a> [axway.com: Types of APIs Different APIs Explained With Concrete Examples for 2024](https://blog.axway.com/learning-center/apis/basics/different-types-apis)  \n",
        "[2] <a id=\"ref-2\"></a> [postman.com: What Is API Authentication? Benefits, Methods & Best Practices](https://www.postman.com/api-platform/api-authentication/)  \n",
        "[3] <a id=\"ref-3\"></a> [geeksforgeeks.org: Types of APIs and Applications of API in Real World](https://www.geeksforgeeks.org/application-programming-interfaces-api-and-its-types/)  \n",
        "[4] <a id=\"ref-4\"></a> [hubspot.com: API Authentication: What It Is, How It Works, Methods, and More](https://blog.hubspot.com/website/api-authentication)  \n",
        "[5] <a id=\"ref-5\"></a> [ibm.com: Application Programming Interface (API)](https://www.ibm.com/topics/api)  \n",
        "[6] <a id=\"ref-6\"></a> [restfulapi.net: What is REST? REST API Tutorial](https://restfulapi.net)  \n",
        "[7] <a id=\"ref-7\"></a> [oreilly.com: Building RESTful Web services with Go](https://www.oreilly.com/library/view/building-restful-web/9781788294287/80e6e100-f69f-4b6c-9291-2fe9446b5cf6.xhtml)  \n",
        "[8] <a id=\"ref-8\"></a> [packtpub.com: Defining REST and its various architectural styles](https://hub.packtpub.com/defining-rest-and-its-various-architectural-styles/)  \n",
        "[9] <a id=\"ref-9\"></a> [scrapingbee.com: The Six Characteristics of a REST API](https://www.scrapingbee.com/blog/six-characteristics-of-rest-api/)  \n",
        "[10] <a id=\"ref-10\"></a> [restfulapi.net: REST Architectural Constraints](https://restfulapi.net/rest-architectural-constraints/)  \n",
        "[11] <a id=\"ref-11\"></a> [kinsta.com: GraphQL vs REST: What's the Difference?](https://kinsta.com/blog/graphql-vs-rest/)  \n",
        "[12] <a id=\"ref-12\"></a> [guru99.com: GraphQL vs REST: Key Differences](https://www.guru99.com/graphql-vs-rest-apis.html)  \n",
        "[13] <a id=\"ref-13\"></a> [news.ycombinator.com: GraphQL vs. REST](https://news.ycombinator.com/item?id=37078606)  \n",
        "[14] <a id=\"ref-14\"></a> [mobilelive.ca: GraphQL vs REST: What You Didn't Know](https://www.mobilelive.ca/blog/graphql-vs-rest-what-you-didnt-know)  \n",
        "[15] <a id=\"ref-15\"></a> [apollographql.com: GraphQL vs. REST](https://www.apollographql.com/blog/graphql-vs-rest)  \n",
        "[16] <a id=\"ref-16\"></a> [radixweb.com: How to Create a REST API with Django REST Framework?](https://radixweb.com/blog/create-rest-api-using-django-rest-framework)  \n",
        "[17] <a id=\"ref-17\"></a> [djangostars.com: Using the Django REST Framework to Develop APIs](https://djangostars.com/blog/rest-apis-django-development/)  \n",
        "[18] <a id=\"ref-18\"></a> [code.likeagirl.io: Introduction to GraphQL with Python Graphene and GraphQL](https://code.likeagirl.io/introduction-to-graphql-with-python-graphene-and-graphql-a36412250907?gi=6041bd5007f6)  \n",
        "[19] <a id=\"ref-19\"></a> [jeffersonheard.github.io: GraphQL in Python with Graphene](https://jeffersonheard.github.io/python/graphql/2018/12/08/graphene-python.html)  \n",
        "[20] <a id=\"ref-20\"></a> [activestate.com: How to Build a GraphQL Server in Python with Graphene](https://www.activestate.com/blog/how-to-build-a-graphql-server-in-python-with-graphene/)  \n",
        "[21] <a id=\"ref-21\"></a> [apollographql.com: The Complete API Guide](https://www.apollographql.com/blog/complete-api-guide)  \n",
        "\n",
        "_Assisted by claude-3-opus on [perplexity.ai](https://perplexity.ai)_"
      ],
      "metadata": {
        "id": "TULMR03mRFk4"
      }
    }
  ]
}